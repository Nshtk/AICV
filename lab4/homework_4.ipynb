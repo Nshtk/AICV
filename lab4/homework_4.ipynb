{
 "cells": [
  {
   "cell_type": "markdown",
   "metadata": {},
   "source": [
    "# Homework 4"
   ]
  },
  {
   "cell_type": "markdown",
   "metadata": {},
   "source": [
    "# Задача №1 - Хвост кита\n",
    "\n",
    "Не так давно на kaggle было соревнование по классификации горбатых китов по снимках их хвостов. Одним из приемов для улучшения работы нейронной сети было выделение маски хвоста. Затем по этой маске вырезался хвост на исходном изображении, нормировался, отображался на черный фон и подавался нейронной сети на вход. \n",
    "\n",
    "Ваша задача - написать программу, которая совершит предобработку картинки, описанную выше. Т.е. найти маску хвоста, по маске вырезать из исходного изображения хвост, нормировать изображение хвоста так, чтобы оно всегда имело один заданный размер и равномерно занимало место, то есть, если хвост был повернут, его нужно выпрямить.\n",
    "\n",
    "Изображения хвостов находятся в папке whale_tail/images к этому занятию. Разметка картинок (маски хвостов) лежат в папке whale_tail/ground_truth. После выделения хвоста посчитайте IoU для каждой картинки (ипсользуя маски из whale_tail/ground_truth)\n",
    "\n",
    "<table><tr>\n",
    "\t<td> <img src=\"whale_tail/images/test_image_01.jpg\" alt=\"Drawing\" style=\"width: 400px;\"/> \n",
    "\t<td> <img src=\"whale_tail/ground_truth/test_image_01.png\" alt=\"Drawing\" style=\"width: 400px;\"/> </td>\n",
    "  \n",
    "</tr></table>"
   ]
  },
  {
   "cell_type": "markdown",
   "metadata": {},
   "source": [
    "# IoU \n",
    " Intercetion over union - число от 0 до 1, показывающее, насколько у двух объектов (эталонного (ground true) и текущего) совпадает внутренний “объем”.\n",
    " \n",
    "<table><tr>\n",
    "\t<td> <img src=\"img/iou.png\" alt=\"Drawing\" style=\"width: 400px;\"/> \n",
    "  \n",
    "</tr></table>"
   ]
  },
  {
   "cell_type": "code",
   "execution_count": null,
   "metadata": {},
   "outputs": [],
   "source": [
    "import os\n",
    "\n",
    "import numpy as np\n",
    "\n",
    "import cv2 as cv\n",
    "\n",
    "import skimage"
   ]
  },
  {
   "cell_type": "code",
   "execution_count": 6,
   "metadata": {},
   "outputs": [],
   "source": [
    "def readImagesFromDirectory(path : str, imread_mode=cv.IMREAD_COLOR) -> list[np.ndarray]:\n",
    "\timages=[]\n",
    "\t\n",
    "\tfor file_name in os.listdir(path):\n",
    "\t\tfile_name_full=f\"{path}/{file_name}\"\n",
    "\t\tif(os.path.isfile(file_name_full)):\n",
    "\t\t\ttry:\n",
    "\t\t\t\tif(file_name_full.endswith(('.png', '.jpg', '.jpeg', '.bmp'))):\n",
    "\t\t\t\t\timages.append(cv.imread(file_name_full, imread_mode))\n",
    "\t\t\texcept Exception as e:\n",
    "\t\t\t\tprint(e)\n",
    "\t\t\t\tpass\n",
    "\t\t\t\n",
    "\treturn images"
   ]
  },
  {
   "cell_type": "code",
   "execution_count": null,
   "metadata": {},
   "outputs": [],
   "source": [
    "def getTailMask(image : np.ndarray, target_size : tuple[int, int]=(224, 224) ):\n",
    "\timage = cv.cvtColor(image, cv.COLOR_RGB2BGR)\n",
    "\timage_gray_blured = cv.GaussianBlur(cv.cvtColor(image, cv.COLOR_RGB2GRAY), (15, 15), 0)\n",
    "\tcontours, _ = cv.findContours(cv.Laplacian(image_gray_blured, cv.THRESH_BINARY, scale=1, ksize=5), cv.RETR_EXTERNAL, cv.CHAIN_APPROX_SIMPLE)\n",
    "\n",
    "\tmask = np.zeros_like(image_gray_blured)\n",
    "\tcontour_largest = max(contours, key=cv.contourArea)\n",
    "\tcv.drawContours(mask, [contour_largest], -1, 255, -1)\n",
    "\n",
    "\timage_result = np.zeros((image.shape[0], image.shape[1], 3), dtype=np.uint8)\n",
    "\tfor i in range(0, image_result.shape[0]):\n",
    "\t\tfor j in range(0, image_result.shape[1]):\n",
    "\t\t\tif mask[i,j]==255:\n",
    "\t\t\t\timage_result[i,j]=(126, 95, 223)\n",
    "\n",
    "\treturn image_result\n"
   ]
  },
  {
   "cell_type": "code",
   "execution_count": 16,
   "metadata": {},
   "outputs": [],
   "source": [
    "def getIOUCoefficient(image1, image2):\n",
    "\tintersection = np.logical_and(image1, image2).sum()\n",
    "\tunion = np.logical_or(image1, image2).sum()\n",
    "\t\n",
    "\tif union == 0:\n",
    "\t\treturn 0.0\n",
    "\t\n",
    "\treturn intersection / union"
   ]
  },
  {
   "cell_type": "code",
   "execution_count": 24,
   "metadata": {},
   "outputs": [],
   "source": [
    "path_images_base=\"lab4/whale_tail/images\"\n",
    "path_images_test=\"lab4/whale_tail/ground_truth\"\n",
    "images_base=readImagesFromDirectory(path_images_base)\n",
    "images_masks=readImagesFromDirectory(path_images_test)"
   ]
  },
  {
   "cell_type": "code",
   "execution_count": 41,
   "metadata": {},
   "outputs": [
    {
     "name": "stdout",
     "output_type": "stream",
     "text": [
      "0.9333710548650906\n",
      "0.9486940765434323\n",
      "0.18661734892871074\n",
      "0.12049311352590703\n",
      "0.8621588128753456\n",
      "0.4360679620490594\n"
     ]
    }
   ],
   "source": [
    "i=0\n",
    "for image in images_base:\n",
    "\timage_processed=cv.cvtColor(getTailMask(image), cv.COLOR_BGR2RGB)\n",
    "\tprint(f'{getIOUCoefficient(cv.cvtColor(images_masks[i], cv.COLOR_RGB2BGR), image_processed)}')\n",
    "\tcv.imshow(\"Base\", image)\n",
    "\tcv.imshow(\"Processed\", image_processed)\n",
    "\tcv.waitKey()\n",
    "\tcv.destroyAllWindows()\n",
    "\ti+=1"
   ]
  },
  {
   "cell_type": "markdown",
   "metadata": {},
   "source": [
    "# Задача №2 - Найти шаблон на изображении с помощью HOG и кросс-корреляции\n",
    "\n",
    "Ваша задача - написать программу, которая сможет найти шаблон одного глаза на нескольких изображениях, в том числе затемненных. Использовать нужно HOG представление изображений, поиск шаблона сделать с помощью кросс-корреляции \n",
    "\n",
    "Изображение глаз человека и шаблон, который нужно на нем найти, находятся в папке hog\n",
    "\n",
    "<table><tr>\n",
    "\t<td> <img src=\"hog/eye.png\" alt=\"Drawing\" style=\"width: 400px;\"/> \n",
    "</tr></table>\t \n",
    "\n",
    "<table><tr>\n",
    "\t<td> <img src=\"hog/eyes.jpg\" alt=\"Drawing\" style=\"width: 400px;\"/> </td>\n",
    "\t  <td> <img src=\"hog/eyes_dark.jpg\" alt=\"Drawing\" style=\"width: 400px;\"/> </td>\n",
    "\t  <td> <img src=\"hog/woman.jpg\" alt=\"Drawing\" style=\"width: 200px;\"/> </td>\n",
    "\n",
    "</tr></table>"
   ]
  },
  {
   "cell_type": "code",
   "execution_count": null,
   "metadata": {},
   "outputs": [],
   "source": [
    "def getHogData(image):\n",
    "\tfeatures, hog_image = skimage.feature.hog(image, orientations=8, pixels_per_cell=(8, 8), cells_per_block=(2, 2), visualize=True, channel_axis=-1)\n",
    "\n",
    "\treturn features, hog_image"
   ]
  },
  {
   "cell_type": "code",
   "execution_count": null,
   "metadata": {},
   "outputs": [],
   "source": [
    "def findTemplateHog(image, image_template):\n",
    "\t_, image_template_hog = getHogData(image_template)\n",
    "\t_, image_hog = getHogData(image)\n",
    "\n",
    "\tmatch_result= cv.matchTemplate(image_template_hog.astype(np.float32), image_hog.astype(np.float32), cv.TM_CCOEFF_NORMED)\n",
    "\tvalue_min, value_max, location_min, location_max = cv.minMaxLoc(match_result)\n",
    "\n",
    "\treturn location_max, value_max"
   ]
  },
  {
   "cell_type": "code",
   "execution_count": 23,
   "metadata": {},
   "outputs": [],
   "source": [
    "path_images_hog=\"lab4/hog\"\n",
    "images=readImagesFromDirectory(path_images_hog)\n",
    "image_eye=images.pop(0)"
   ]
  },
  {
   "cell_type": "code",
   "execution_count": 27,
   "metadata": {},
   "outputs": [
    {
     "name": "stdout",
     "output_type": "stream",
     "text": [
      "Confidence: 0.9385290145874023\n",
      "Confidence: 0.9132232069969177\n",
      "Confidence: 0.5656275153160095\n"
     ]
    }
   ],
   "source": [
    "for image in images:\n",
    "\timage_copy=image.copy()\n",
    "\tlocation, confidence=findTemplateHog(image_copy, image_eye)\n",
    "\tprint(f\"Confidence: {confidence}\")\n",
    "\tcv.rectangle(image_copy, location, (location[0] + image_eye.shape[1], location[1] + image_eye.shape[0]), (255, 0, 0), 2)\n",
    "\tcv.imshow(\"Correlated\", image_copy)\n",
    "\tcv.waitKey()\n",
    "\tcv.destroyAllWindows()"
   ]
  }
 ],
 "metadata": {
  "hide_input": false,
  "kernelspec": {
   "display_name": ".venv",
   "language": "python",
   "name": "python3"
  },
  "language_info": {
   "codemirror_mode": {
    "name": "ipython",
    "version": 3
   },
   "file_extension": ".py",
   "mimetype": "text/x-python",
   "name": "python",
   "nbconvert_exporter": "python",
   "pygments_lexer": "ipython3",
   "version": "3.12.3"
  },
  "polyglot_notebook": {
   "kernelInfo": {
    "defaultKernelName": "csharp",
    "items": [
     {
      "aliases": [],
      "name": "csharp"
     }
    ]
   }
  },
  "toc": {
   "base_numbering": 1,
   "nav_menu": {},
   "number_sections": true,
   "sideBar": true,
   "skip_h1_title": false,
   "title_cell": "Table of Contents",
   "title_sidebar": "Contents",
   "toc_cell": false,
   "toc_position": {},
   "toc_section_display": true,
   "toc_window_display": false
  },
  "varInspector": {
   "cols": {
    "lenName": 16,
    "lenType": 16,
    "lenVar": 40
   },
   "kernels_config": {
    "python": {
     "delete_cmd_postfix": "",
     "delete_cmd_prefix": "del ",
     "library": "var_list.py",
     "varRefreshCmd": "print(var_dic_list())"
    },
    "r": {
     "delete_cmd_postfix": ") ",
     "delete_cmd_prefix": "rm(",
     "library": "var_list.r",
     "varRefreshCmd": "cat(var_dic_list()) "
    }
   },
   "types_to_exclude": [
    "_Feature",
    "builtin_function_or_method",
    "function",
    "instance",
    "module"
   ],
   "window_display": false
  }
 },
 "nbformat": 4,
 "nbformat_minor": 4
}
